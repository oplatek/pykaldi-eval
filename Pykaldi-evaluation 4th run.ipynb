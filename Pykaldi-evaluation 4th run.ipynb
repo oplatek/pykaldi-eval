{
 "metadata": {
  "name": ""
 },
 "nbformat": 3,
 "nbformat_minor": 0,
 "worksheets": [
  {
   "cells": [
    {
     "cell_type": "code",
     "collapsed": false,
     "input": [
      "import pickle\n",
      "import pylab as pl\n",
      "from collections import namedtuple\n",
      "\n",
      "# Measured for 50 wav utterances at once\n",
      "SysRecord = namedtuple('SysRecord', \n",
      "                       ['wav_scp', 'beam', 'lattice_beam', 'max_active', 'wavlen',\n",
      "                        'decodelen', 'forwardlen', 'backwardlen', 'refer_words', 'ins', 'dl', 'sub', 'ser'])\n",
      "# Measured for every single wav utterances\n",
      "UserRecord = namedtuple('UserRecord', \n",
      "                        ['wav_name', 'wav_len', 'beam', 'lattice_beam', 'max_active', 'forwardlen', 'backwardlen'])\n",
      "\n",
      "\n",
      "with open('./records4_pickled.log', 'r') as r:\n",
      "    sys_time_r = pickle.load(r)\n",
      "    user_time_r = pickle.load(r)\n",
      "\n",
      "beam_range = sorted(list(set([rec.beam for rec in sys_time_r])))\n",
      "lat_beam_range = sorted(list(set([rec.lattice_beam for rec in user_time_r])))\n",
      "max_active_range = sorted(list(set([rec.max_active for rec in user_time_r])))\n",
      "wav_len_values = sorted(list(set([urec.wav_len for urec in user_time_r])))\n",
      "# print wav_len_values\n",
      "\n",
      "# pl.plot(wav_len_values,'+')\n",
      "# pl.show()\n",
      "# pl.hist(beam_range, 10)\n",
      "# pl.show()\n",
      "\n",
      "lat_beam = lat_beam_range[0]\n",
      "for i, max_active in enumerate(max_active_range):\n",
      "    pl.subplot(1, len(max_active_range), i)\n",
      "    wer = []\n",
      "    for beam in beam_range:\n",
      "        wer.extend([ (rec.ins + rec.dl + rec.sub) / float(rec.refer_words) \n",
      "                    for rec in sys_time_r if rec.beam == beam and rec.lattice_beam == lat_beam\n",
      "                    and rec.max_active == max_active])\n",
      "    print beam_range, wer\n",
      "    pl.plot(beam_range, wer)\n",
      "pl.show()\n",
      "\n",
      "\n",
      "lat_beam, max_active\n",
      "    \n"
     ],
     "language": "python",
     "metadata": {},
     "outputs": [
      {
       "output_type": "stream",
       "stream": "stdout",
       "text": [
        "[13.0, 14.0, 15.0, 16.0, 16.5] [0.06369426751592357, 0.07006369426751592, 0.07006369426751592, 0.07006369426751592, 0.07006369426751592]\n",
        "[13.0, 14.0, 15.0, 16.0, 16.5]"
       ]
      },
      {
       "output_type": "stream",
       "stream": "stdout",
       "text": [
        " [0.06369426751592357, 0.07006369426751592, 0.07006369426751592, 0.07006369426751592, 0.07006369426751592]\n",
        "[13.0, 14.0, 15.0, 16.0, 16.5]"
       ]
      },
      {
       "output_type": "stream",
       "stream": "stdout",
       "text": [
        " [0.06369426751592357, 0.07006369426751592, 0.07006369426751592, 0.07006369426751592, 0.07006369426751592]\n"
       ]
      }
     ],
     "prompt_number": 35
    },
    {
     "cell_type": "code",
     "collapsed": false,
     "input": [],
     "language": "python",
     "metadata": {},
     "outputs": []
    }
   ],
   "metadata": {}
  }
 ]
}