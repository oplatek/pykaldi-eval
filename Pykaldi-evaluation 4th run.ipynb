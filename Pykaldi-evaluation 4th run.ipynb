{
 "metadata": {
  "name": ""
 },
 "nbformat": 3,
 "nbformat_minor": 0,
 "worksheets": [
  {
   "cells": [
    {
     "cell_type": "code",
     "collapsed": false,
     "input": [
      "import pickle\n",
      "import pylab as pl\n",
      "from collections import namedtuple\n",
      "\n",
      "# Measured for 50 wav utterances at once\n",
      "SysRecord = namedtuple('SysRecord', \n",
      "                       ['wav_scp', 'beam', 'lattice_beam', 'max_active', 'wavlen',\n",
      "                        'decodelen', 'forwardlen', 'backwardlen', 'refer_words', 'ins', 'dl', 'sub', 'ser'])\n",
      "# Measured for every single wav utterances\n",
      "UserRecord = namedtuple('UserRecord', \n",
      "                        ['wav_name', 'wav_len', 'beam', 'lattice_beam', 'max_active', 'forwardlen', 'backwardlen'])\n",
      "\n",
      "\n",
      "with open('./records4_pickled.log', 'r') as r:\n",
      "    sys_time_r = pickle.load(r)\n",
      "    user_time_r = pickle.load(r)\n",
      "\n",
      "x, y = range(10), range(10) \n",
      "pl.plot(x,y)"
     ],
     "language": "python",
     "metadata": {},
     "outputs": [
      {
       "metadata": {},
       "output_type": "pyout",
       "prompt_number": 1,
       "text": [
        "[<matplotlib.lines.Line2D at 0x4abd410>]"
       ]
      }
     ],
     "prompt_number": 1
    },
    {
     "cell_type": "code",
     "collapsed": false,
     "input": [],
     "language": "python",
     "metadata": {},
     "outputs": []
    }
   ],
   "metadata": {}
  }
 ]
}