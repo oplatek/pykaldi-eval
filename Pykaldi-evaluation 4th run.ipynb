{
 "metadata": {
  "name": ""
 },
 "nbformat": 3,
 "nbformat_minor": 0,
 "worksheets": [
  {
   "cells": [
    {
     "cell_type": "code",
     "collapsed": false,
     "input": [
      "%pylab inline"
     ],
     "language": "python",
     "metadata": {},
     "outputs": [
      {
       "output_type": "stream",
       "stream": "stdout",
       "text": [
        "Populating the interactive namespace from numpy and matplotlib\n"
       ]
      },
      {
       "output_type": "stream",
       "stream": "stderr",
       "text": [
        "WARNING: pylab import has clobbered these variables: ['rec']\n",
        "`%pylab --no-import-all` prevents importing * from pylab and numpy\n"
       ]
      }
     ],
     "prompt_number": 89
    },
    {
     "cell_type": "code",
     "collapsed": false,
     "input": [
      "import pickle\n",
      "import pylab as pl\n",
      "from collections import namedtuple\n",
      "\n",
      "def wer(ins, dl, sub, refer_words):\n",
      "    return float((ins + dl + sub)) / refer_words\n",
      "\n",
      "# Measured for 50 wav utterances at once\n",
      "SysRecord = namedtuple('SysRecord', \n",
      "                       ['wav_scp', 'beam', 'lattice_beam', 'max_active', 'wavlen',\n",
      "                        'decodelen', 'forwardlen', 'backwardlen', 'refer_words', 'ins', 'dl', 'sub', 'ser'])\n",
      "\n",
      "# Measured for every single wav utterances (50 utterances)\n",
      "UserRecord = namedtuple('UserRecord', \n",
      "                        ['wav_name', 'wav_len', 'beam', 'lattice_beam', 'max_active', 'forwardlen', 'backwardlen'])\n",
      "\n",
      "\n",
      "# with open('./records4_pickled.log', 'r') as r:\n",
      "with open('./k53s_wer16_lb_b_max_picked.txt', 'r') as r:\n",
      "    sys_time_r = pickle.load(r)\n",
      "    user_time_r = pickle.load(r)\n",
      "    \n",
      "\n",
      "\n",
      "beam_range = sorted(list(set([rec.beam for rec in sys_time_r])))\n",
      "lat_beam_range = sorted(list(set([rec.lattice_beam for rec in user_time_r])))\n",
      "max_active_range = sorted(list(set([rec.max_active for rec in user_time_r])))\n",
      "# list of wav length values for particular fixed setup (all setups use the same wavs).\n",
      "wav_len_values = sorted([urec.wav_len for urec in user_time_r if \n",
      "                         urec.max_active==max_active_range[0] and urec.lattice_beam==lat_beam_range[0] and urec.beam==beam_range[0]])\n"
     ],
     "language": "python",
     "metadata": {},
     "outputs": [],
     "prompt_number": 90
    },
    {
     "cell_type": "code",
     "collapsed": false,
     "input": [
      "\n",
      "print wer(1,2,2,6)"
     ],
     "language": "python",
     "metadata": {},
     "outputs": [
      {
       "output_type": "stream",
       "stream": "stdout",
       "text": [
        "0.833333333333\n"
       ]
      }
     ],
     "prompt_number": 91
    },
    {
     "cell_type": "markdown",
     "metadata": {},
     "source": [
      "TODO graphs\n",
      "===========\n",
      "\n",
      " * x axes: state-level beam, f1(x) == WER, f2(x) == RTF\n",
      " * x axes: lattice-beam, f1(x) == WER, f2(x) == latency\n",
      " * x axes: wav-length, f(x) = latency\n",
      " * x axes: percentil for wav recordings, f1(x) == RTF, f2(x) == 1.0 - teoretical acceptible treshold RTF, f3(x) == 0.6 - practical stricter treshold\n",
      " * x axes: percentil for wav recordings, f1(x) == latency, f2(x) == 0.4s - acceptabel latency treshold\n",
      " * For Google: x axes: percentil for wav recordings, f1(x) == latency, f2(x) == 0.4s - acceptabel latency treshold"
     ]
    },
    {
     "cell_type": "code",
     "collapsed": false,
     "input": [
      "lat_beam = lat_beam_range[0]\n",
      "for i, max_active in enumerate(max_active_range):\n",
      "    pl.subplot(1, len(max_active_range), i)\n",
      "    wer = []\n",
      "    for beam in beam_range:\n",
      "        wer.extend([ (rec.ins + rec.dl + rec.sub) / float(rec.refer_words) \n",
      "                    for rec in sys_time_r if rec.beam == beam and rec.lattice_beam == lat_beam\n",
      "                    and rec.max_active == max_active])\n",
      "    print beam_range, wer\n",
      "    pl.plot(beam_range, wer, 'ro')\n",
      "pl.show()\n",
      "\n",
      "\n",
      "print lat_beam, max_active"
     ],
     "language": "python",
     "metadata": {},
     "outputs": [
      {
       "output_type": "stream",
       "stream": "stdout",
       "text": [
        "[13.0, 14.0, 15.0, 16.0, 16.5] [0.1953125, 0.19673295454545456, 0.1963778409090909, 0.1963778409090909, 0.19673295454545456]\n",
        "[13.0, 14.0, 15.0, 16.0, 16.5]"
       ]
      },
      {
       "output_type": "stream",
       "stream": "stdout",
       "text": [
        " [0.18110795454545456, 0.1825284090909091, 0.1825284090909091, 0.1825284090909091, 0.18217329545454544]\n",
        "[13.0, 14.0, 15.0, 16.0, 16.5]"
       ]
      },
      {
       "output_type": "stream",
       "stream": "stdout",
       "text": [
        " [0.1807528409090909, 0.18110795454545456, 0.18110795454545456, 0.18110795454545456, 0.1807528409090909]\n"
       ]
      },
      {
       "metadata": {},
       "output_type": "display_data",
       "png": "[encoded data removed]",
       "text": [
        "<matplotlib.figure.Figure at 0x10c52ad0>"
       ]
      },
      {
       "output_type": "stream",
       "stream": "stdout",
       "text": [
        "7.0 12000.0\n"
       ]
      }
     ],
     "prompt_number": 92
    },
    {
     "cell_type": "code",
     "collapsed": false,
     "input": [
      "# print('Number of wavs %d. Max length %f, Avg length %f' % (len(wav_len_values), max(wav_len_values), sum(wav_len_values) / len(wav_len_values))) \n",
      "print wav_len_values\n",
      "# print('Number of wavs %d. Max length %f, Avg length %f' % (len(wav_len_values), max(wav_len_values), -6.6)) \n",
      "pl.plot(wav_len_values,'+')\n",
      "pl.show()"
     ],
     "language": "python",
     "metadata": {},
     "outputs": [
      {
       "output_type": "stream",
       "stream": "stdout",
       "text": [
        "[0.4, 0.4, 0.448, 0.48, 0.48, 0.48, 0.496, 0.496, 0.512, 0.528, 0.576, 0.592, 0.608, 0.64, 0.672, 0.688, 0.704, 0.72, 0.72, 0.736, 0.736, 0.736, 0.736, 0.736, 0.736, 0.736, 0.736, 0.736, 0.752, 0.752, 0.752, 0.752, 0.768, 0.768, 0.768, 0.768, 0.768, 0.768, 0.768, 0.768, 0.768, 0.784, 0.784, 0.784, 0.784, 0.784, 0.784, 0.784, 0.784, 0.784, 0.784, 0.784, 0.784, 0.784, 0.784, 0.784, 0.8, 0.8, 0.8, 0.816, 0.816, 0.816, 0.816, 0.816, 0.816, 0.832, 0.832, 0.832, 0.832, 0.832, 0.832, 0.832, 0.832, 0.832, 0.832, 0.848, 0.848, 0.848, 0.848, 0.848, 0.848, 0.848, 0.848, 0.864, 0.864, 0.864, 0.864, 0.864, 0.864, 0.864, 0.864, 0.864, 0.864, 0.864, 0.864, 0.864, 0.88, 0.88, 0.88, 0.88, 0.88, 0.88, 0.88, 0.88, 0.88, 0.88, 0.88, 0.88, 0.896, 0.896, 0.896, 0.896, 0.896, 0.896, 0.896, 0.896, 0.896, 0.896, 0.896, 0.912, 0.912, 0.912, 0.912, 0.912, 0.912, 0.928, 0.928, 0.928, 0.928, 0.928, 0.928, 0.944, 0.944, 0.944, 0.944, 0.944, 0.944, 0.944, 0.944, 0.944, 0.944, 0.944, 0.944, 0.944, 0.96, 0.96, 0.96, 0.96, 0.976, 0.976, 0.976, 0.976, 0.976, 0.976, 0.976, 0.976, 0.976, 0.992, 0.992, 0.992, 0.992, 0.992, 0.992, 0.992, 0.992, 0.992, 1.008, 1.008, 1.008, 1.008, 1.008, 1.008, 1.008, 1.008, 1.008, 1.024, 1.024, 1.024, 1.024, 1.024, 1.024, 1.024, 1.024, 1.024, 1.024, 1.024, 1.04, 1.04, 1.04, 1.04, 1.04, 1.04, 1.04, 1.04, 1.04, 1.04, 1.04, 1.04, 1.04, 1.056, 1.056, 1.056, 1.056, 1.056, 1.056, 1.056, 1.056, 1.056, 1.056, 1.056, 1.072, 1.072, 1.072, 1.072, 1.072, 1.088, 1.088, 1.088, 1.088, 1.088, 1.088, 1.104, 1.104, 1.104, 1.104, 1.104, 1.104, 1.12, 1.12, 1.12, 1.12, 1.12, 1.12, 1.12, 1.12, 1.12, 1.136, 1.136, 1.136, 1.136, 1.136, 1.136, 1.136, 1.136, 1.136, 1.136, 1.152, 1.152, 1.152, 1.152, 1.152, 1.152, 1.152, 1.152, 1.152, 1.168, 1.168, 1.168, 1.168, 1.168, 1.168, 1.168, 1.168, 1.168, 1.168, 1.168, 1.168, 1.168, 1.168, 1.168, 1.184, 1.184, 1.184, 1.184, 1.2, 1.2, 1.2, 1.2, 1.216, 1.216, 1.216, 1.216, 1.216, 1.216, 1.232, 1.232, 1.232, 1.232, 1.232, 1.232, 1.232, 1.232, 1.232, 1.248, 1.248, 1.248, 1.248, 1.248, 1.264, 1.264, 1.264, 1.264, 1.264, 1.264, 1.264, 1.264, 1.264, 1.264, 1.264, 1.28, 1.28, 1.28, 1.28, 1.28, 1.28, 1.28, 1.28, 1.296, 1.296, 1.296, 1.296, 1.296, 1.296, 1.296, 1.312, 1.312, 1.312, 1.312, 1.312, 1.312, 1.312, 1.312, 1.328, 1.328, 1.328, 1.328, 1.328, 1.328, 1.328, 1.344, 1.344, 1.344, 1.344, 1.344, 1.344, 1.344, 1.344, 1.344, 1.344, 1.344, 1.344, 1.344, 1.344, 1.36, 1.36, 1.36, 1.36, 1.36, 1.36, 1.36, 1.36, 1.36, 1.376, 1.376, 1.376, 1.376, 1.376, 1.376, 1.376, 1.376, 1.376, 1.392, 1.392, 1.392, 1.392, 1.392, 1.392, 1.392, 1.392, 1.392, 1.392, 1.408, 1.408, 1.408, 1.408, 1.408, 1.408, 1.408, 1.424, 1.424, 1.424, 1.424, 1.424, 1.424, 1.44, 1.44, 1.44, 1.44, 1.44, 1.44, 1.44, 1.44, 1.456, 1.456, 1.456, 1.456, 1.456, 1.456, 1.456, 1.456, 1.472, 1.472, 1.472, 1.472, 1.472, 1.472, 1.488, 1.488, 1.488, 1.488, 1.488, 1.488, 1.488, 1.488, 1.488, 1.504, 1.504, 1.504, 1.504, 1.52, 1.52, 1.52, 1.536, 1.536, 1.536, 1.536, 1.536, 1.552, 1.552, 1.552, 1.552, 1.568, 1.568, 1.568, 1.568, 1.568, 1.584, 1.584, 1.584, 1.584, 1.584, 1.584, 1.6, 1.6, 1.6, 1.6, 1.6, 1.6, 1.6, 1.6, 1.616, 1.616, 1.616, 1.616, 1.616, 1.616, 1.616, 1.616, 1.616, 1.632, 1.632, 1.632, 1.632, 1.648, 1.648, 1.648, 1.664, 1.68, 1.68, 1.68, 1.68, 1.68, 1.696, 1.696, 1.696, 1.696, 1.696, 1.696, 1.696, 1.712, 1.712, 1.712, 1.712, 1.728, 1.728, 1.728, 1.728, 1.728, 1.728, 1.728, 1.728, 1.744, 1.744, 1.744, 1.744, 1.76, 1.76, 1.76, 1.76, 1.76, 1.76, 1.776, 1.776, 1.792, 1.792, 1.792, 1.792, 1.792, 1.792, 1.792, 1.792, 1.808, 1.808, 1.808, 1.808, 1.808, 1.808, 1.808, 1.808, 1.808, 1.808, 1.808, 1.824, 1.824, 1.824, 1.824, 1.824, 1.824, 1.824, 1.84, 1.84, 1.84, 1.84, 1.84, 1.856, 1.856, 1.856, 1.856, 1.856, 1.856, 1.856, 1.872, 1.872, 1.872, 1.872, 1.872, 1.888, 1.888, 1.888, 1.888, 1.888, 1.904, 1.904, 1.904, 1.904, 1.904, 1.904, 1.92, 1.92, 1.92, 1.92, 1.92, 1.92, 1.92, 1.92, 1.936, 1.936, 1.936, 1.936, 1.936, 1.936, 1.952, 1.952, 1.952, 1.952, 1.968, 1.968, 1.968, 1.968, 1.968, 1.968, 1.968, 1.968, 1.984, 1.984, 1.984, 1.984, 1.984, 2.0, 2.016, 2.016, 2.016, 2.016, 2.016, 2.032, 2.032, 2.032, 2.032, 2.032, 2.032, 2.048, 2.048, 2.048, 2.064, 2.064, 2.064, 2.08, 2.08, 2.08, 2.08, 2.096, 2.096, 2.096, 2.096, 2.112, 2.112, 2.112, 2.112, 2.112, 2.128, 2.128, 2.16, 2.16, 2.16, 2.176, 2.176, 2.176, 2.176, 2.192, 2.192, 2.192, 2.208, 2.208, 2.208, 2.208, 2.224, 2.224, 2.224, 2.224, 2.24, 2.24, 2.24, 2.24, 2.24, 2.24, 2.256, 2.256, 2.256, 2.256, 2.256, 2.256, 2.256, 2.272, 2.272, 2.288, 2.288, 2.304, 2.304, 2.304, 2.304, 2.32, 2.32, 2.32, 2.32, 2.32, 2.336, 2.336, 2.336, 2.336, 2.352, 2.352, 2.352, 2.352, 2.368, 2.368, 2.368, 2.368, 2.384, 2.384, 2.384, 2.4, 2.4, 2.4, 2.416, 2.432, 2.448, 2.448, 2.448, 2.448, 2.448, 2.448, 2.448, 2.448, 2.464, 2.48, 2.48, 2.48, 2.48, 2.48, 2.496, 2.496, 2.496, 2.496, 2.512, 2.512, 2.512, 2.512, 2.512, 2.512, 2.512, 2.512, 2.528, 2.528, 2.528, 2.528, 2.544, 2.544, 2.544, 2.56, 2.56, 2.56, 2.56, 2.576, 2.576, 2.576, 2.592, 2.592, 2.592, 2.592, 2.608, 2.64, 2.64, 2.64, 2.64, 2.656, 2.656, 2.672, 2.672, 2.672, 2.672, 2.704, 2.704, 2.704, 2.72, 2.72, 2.736, 2.736, 2.752, 2.752, 2.768, 2.768, 2.768, 2.784, 2.784, 2.784, 2.784, 2.784, 2.784, 2.816, 2.816, 2.832, 2.832, 2.848, 2.848, 2.848, 2.848, 2.88, 2.88, 2.896, 2.896, 2.912, 2.912, 2.928, 2.928, 2.928, 2.944, 2.96, 2.96, 2.96, 2.96, 2.976, 2.976, 2.976, 2.992, 3.008, 3.008, 3.008, 3.024, 3.024, 3.056, 3.056, 3.056, 3.072, 3.072, 3.088, 3.104, 3.104, 3.136, 3.136, 3.152, 3.168, 3.184, 3.184, 3.2, 3.216, 3.216, 3.216, 3.216, 3.216, 3.232, 3.232, 3.232, 3.248, 3.264, 3.264, 3.264, 3.28, 3.344, 3.376, 3.376, 3.376, 3.376, 3.392, 3.392, 3.408, 3.424, 3.44, 3.44, 3.456, 3.456, 3.456, 3.488, 3.504, 3.536, 3.584, 3.616, 3.648, 3.648, 3.664, 3.664, 3.696, 3.712, 3.712, 3.728, 3.792, 3.792, 3.792, 3.792, 3.808, 3.84, 3.84, 3.856, 3.856, 3.856, 3.968, 3.968, 3.984, 3.984, 4.0, 4.0, 4.016, 4.048, 4.08, 4.096, 4.096, 4.112, 4.112, 4.144, 4.16, 4.16, 4.192, 4.208, 4.208, 4.24, 4.304, 4.32, 4.32, 4.32, 4.352, 4.352, 4.384, 4.384, 4.432, 4.464, 4.544, 4.544, 4.608, 4.656, 4.672, 4.72, 4.72, 4.848, 4.88, 4.896, 4.96, 5.008, 5.04, 5.056, 5.088, 5.088, 5.184, 5.232, 5.232, 5.264, 5.328, 5.392, 5.472, 5.504, 5.552, 5.68, 5.712, 5.744, 5.76, 5.776, 5.792, 5.856, 6.048, 6.224, 6.336, 6.416, 6.48, 6.576, 6.576, 6.592, 6.688, 7.104, 7.504, 7.936, 8.16, 8.816, 9.824, 10.736, 11.488, 12.528, 13.504, 13.52, 17.52, 59.808]\n"
       ]
      },
      {
       "metadata": {},
       "output_type": "display_data",
       "png": "[encoded data removed]",
       "text": [
        "<matplotlib.figure.Figure at 0xd232690>"
       ]
      }
     ],
     "prompt_number": 93
    },
    {
     "cell_type": "code",
     "collapsed": false,
     "input": [
      "pl.bar(range(len(beam_range)), beam_range)\n",
      "pl.show()\n",
      "print beam_range"
     ],
     "language": "python",
     "metadata": {},
     "outputs": [
      {
       "metadata": {},
       "output_type": "display_data",
       "png": "[encoded data removed]",
       "text": [
        "<matplotlib.figure.Figure at 0x633e3d0>"
       ]
      },
      {
       "output_type": "stream",
       "stream": "stdout",
       "text": [
        "[13.0, 14.0, 15.0, 16.0, 16.5]\n"
       ]
      }
     ],
     "prompt_number": 94
    },
    {
     "cell_type": "code",
     "collapsed": false,
     "input": [
      "lat_beam, max_active = lat_beam_range[2], max_active_range[2]\n",
      "minf, avgf, maxf = [], [], []\n",
      "for beam in beam_range:\n",
      "    forwardrtf = [ rec.forwardlen / float(rec.wav_len) for rec in user_time_r if rec.beam == beam and rec.lattice_beam == lat_beam\n",
      "                    and rec.max_active == max_active]\n",
      "    wer = [ rec.wer for rec in sys_time_r if rec.beam == beam and rec.lattice_beam == lat_beam\n",
      "                    and rec.max_active == max_active]\n",
      "    minf.append(min(forwardrtf))\n",
      "    avgf.append(sum(forwardrtf) / float(len(forwardrtf)))\n",
      "    maxf.append(max(forwardlen))\n",
      "pl.plot(beam_range, minf, 'g')\n",
      "pl.plot(beam_range, avgf, 'b')\n",
      "pl.plot(beam_range, [1.0] * len(beam_range), 'r')\n",
      "#pl.plot(beam_range, maxf, 'r')\n",
      "pl.show()"
     ],
     "language": "python",
     "metadata": {},
     "outputs": [
      {
       "ename": "AttributeError",
       "evalue": "'SysRecord' object has no attribute 'wer'",
       "output_type": "pyerr",
       "traceback": [
        "\u001b[1;31m---------------------------------------------------------------------------\u001b[0m\n\u001b[1;31mAttributeError\u001b[0m                            Traceback (most recent call last)",
        "\u001b[1;32m<ipython-input-95-145da34a197a>\u001b[0m in \u001b[0;36m<module>\u001b[1;34m()\u001b[0m\n\u001b[0;32m      5\u001b[0m                     and rec.max_active == max_active]\n\u001b[0;32m      6\u001b[0m     wer = [ rec.wer for rec in sys_time_r if rec.beam == beam and rec.lattice_beam == lat_beam\n\u001b[1;32m----> 7\u001b[1;33m                     and rec.max_active == max_active]\n\u001b[0m\u001b[0;32m      8\u001b[0m     \u001b[0mminf\u001b[0m\u001b[1;33m.\u001b[0m\u001b[0mappend\u001b[0m\u001b[1;33m(\u001b[0m\u001b[0mmin\u001b[0m\u001b[1;33m(\u001b[0m\u001b[0mforwardrtf\u001b[0m\u001b[1;33m)\u001b[0m\u001b[1;33m)\u001b[0m\u001b[1;33m\u001b[0m\u001b[0m\n\u001b[0;32m      9\u001b[0m     \u001b[0mavgf\u001b[0m\u001b[1;33m.\u001b[0m\u001b[0mappend\u001b[0m\u001b[1;33m(\u001b[0m\u001b[0msum\u001b[0m\u001b[1;33m(\u001b[0m\u001b[0mforwardrtf\u001b[0m\u001b[1;33m)\u001b[0m \u001b[1;33m/\u001b[0m \u001b[0mfloat\u001b[0m\u001b[1;33m(\u001b[0m\u001b[0mlen\u001b[0m\u001b[1;33m(\u001b[0m\u001b[0mforwardrtf\u001b[0m\u001b[1;33m)\u001b[0m\u001b[1;33m)\u001b[0m\u001b[1;33m)\u001b[0m\u001b[1;33m\u001b[0m\u001b[0m\n",
        "\u001b[1;31mAttributeError\u001b[0m: 'SysRecord' object has no attribute 'wer'"
       ]
      }
     ],
     "prompt_number": 95
    },
    {
     "cell_type": "code",
     "collapsed": false,
     "input": [
      "beam, max_active = beam_range[2], max_active_range[0]\n",
      "minf, avgf, maxf = [], [], []\n",
      "for lat_beam in lat_beam_range:\n",
      "    forwardrtf = [ rec.forwardlen/ float(rec.wav_len) for rec in user_time_r if rec.beam == beam and rec.lattice_beam == lat_beam\n",
      "                    and rec.max_active == max_active]\n",
      "    minf.append(min(forwardrtf))\n",
      "    avgf.append(sum(forwardrtf) / float(len(forwardrtf)))\n",
      "    maxf.append(max(forwardrtf))\n",
      "pl.plot(lat_beam_range, minf, 'g')\n",
      "pl.plot(lat_beam_range, avgf, 'b')\n",
      "pl.plot(lat_beam_range, maxf, 'r')\n",
      "pl.show()"
     ],
     "language": "python",
     "metadata": {},
     "outputs": []
    },
    {
     "cell_type": "code",
     "collapsed": false,
     "input": [
      "beam, max_active = beam_range[2], max_active_range[0]\n",
      "minb, avgb, maxb = [], [], []\n",
      "for lat_beam in lat_beam_range:\n",
      "    backwardlen = [ rec.backwardlen for rec in user_time_r if rec.beam == beam and rec.lattice_beam == lat_beam\n",
      "                    and rec.max_active == max_active]\n",
      "    minb.append(min(backwardlen))\n",
      "    avgb.append(sum(backwardlen) / float(len(forwardlen)))\n",
      "    maxb.append(max(backwardlen))\n",
      "pl.plot(lat_beam_range, minb, 'g')\n",
      "pl.plot(lat_beam_range, avgb, 'b')\n",
      "# pl.plot(lat_beam_range, maxb, 'r')\n",
      "pl.show()"
     ],
     "language": "python",
     "metadata": {},
     "outputs": []
    },
    {
     "cell_type": "code",
     "collapsed": false,
     "input": [
      "lat_beam, max_active = lat_beam_range[2], max_active_range[0]\n",
      "minb, avgb, maxb = [], [], []\n",
      "for beam in beam_range:\n",
      "    backwardlen = [ rec.backwardlen for rec in user_time_r if rec.beam == beam and rec.lattice_beam == lat_beam\n",
      "                    and rec.max_active == max_active]\n",
      "    minb.append(min(backwardlen))\n",
      "    avgb.append(sum(backwardlen) / float(len(forwardlen)))\n",
      "    maxb.append(max(backwardlen))\n",
      "pl.plot(beam_range, minb, 'g')\n",
      "pl.plot(beam_range, avgb, 'b')\n",
      "# pl.plot(beam_range, maxb, 'r')\n",
      "pl.show()"
     ],
     "language": "python",
     "metadata": {},
     "outputs": []
    }
   ],
   "metadata": {}
  }
 ]
}